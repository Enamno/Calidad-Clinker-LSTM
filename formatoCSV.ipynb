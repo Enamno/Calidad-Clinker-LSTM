{
 "cells": [
  {
   "cell_type": "code",
   "execution_count": 3,
   "id": "d8884a4b-83fb-42ce-b34b-4a9b9dc9b167",
   "metadata": {
    "tags": []
   },
   "outputs": [],
   "source": [
    "import pandas as pd\n",
    "\n",
    "# Reemplaza 'archivo.xlsx' con el nombre de tu archivo Excel y 'salida.csv' con el nombre que deseas para el archivo CSV de salida\n",
    "nombre_archivo_excel = \"C:/Users/esteb/OneDrive/Escritorio/CSV de prueba/Base de Datos - Clinker/Base de Datos - Clinker 4.xlsx\"\n",
    "nombre_archivo_csv = \"C:/Users/esteb/OneDrive/Escritorio/CSV de prueba/Base de datos clinker4.csv\"\n",
    "\n",
    "# Lee el archivo Excel\n",
    "df = pd.read_excel(nombre_archivo_excel)\n",
    "\n",
    "# Combina todas las columnas en una sola columna separada por comas\n",
    "df['FECHA', 'HORA', '% R90', '% PxC', 'MA', 'MS', 'SC', '%O2', '%NO',\n",
    "       '%CO', 'BTZ (°C)', 'FCC (T/h)', 'AH (T/h)', 'AMP', 'CIM (t)',\n",
    "       'CG (T/h)', 'RPM', 'BET (°C)', 'LIQ', '% CO2', '% C3S', '% C3A',\n",
    "       '% C2S', '% C4AF', '% CaO(l)'] = df.apply(lambda row: ','.join(map(str, row)), axis=1)\n",
    "\n",
    "# Selecciona solo la nueva columna\n",
    "df = df[['FECHA', 'HORA', '% R90', '% PxC', 'MA', 'MS', 'SC', '%O2', '%NO',\n",
    "       '%CO', 'BTZ (°C)', 'FCC (T/h)', 'AH (T/h)', 'AMP', 'CIM (t)',\n",
    "       'CG (T/h)', 'RPM', 'BET (°C)', 'LIQ', '% CO2', '% C3S', '% C3A',\n",
    "       '% C2S', '% C4AF', '% CaO(l)']]\n",
    "\n",
    "# Guarda el DataFrame como un archivo CSV\n",
    "df.to_csv(nombre_archivo_csv, index=False)"
   ]
  },
  {
   "cell_type": "code",
   "execution_count": null,
   "id": "c9f4f908-36d2-4c7b-bb60-488a83ab1b7e",
   "metadata": {},
   "outputs": [],
   "source": []
  }
 ],
 "metadata": {
  "kernelspec": {
   "display_name": "Python 3 (ipykernel)",
   "language": "python",
   "name": "python3"
  },
  "language_info": {
   "codemirror_mode": {
    "name": "ipython",
    "version": 3
   },
   "file_extension": ".py",
   "mimetype": "text/x-python",
   "name": "python",
   "nbconvert_exporter": "python",
   "pygments_lexer": "ipython3",
   "version": "3.11.5"
  }
 },
 "nbformat": 4,
 "nbformat_minor": 5
}
